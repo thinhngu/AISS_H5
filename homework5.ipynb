{
 "cells": [
  {
   "cell_type": "markdown",
   "metadata": {},
   "source": [
    "# Homework 5 – Analysis of distributed data sources"
   ]
  },
  {
   "cell_type": "markdown",
   "metadata": {},
   "source": [
    "In the data set we already used in the exercise, there is another target attribute: age.\n",
    "Complete the task group A **or** B. Always assess the performance of the corresponding classifier/regressor.\n",
    "\n",
    "**Task group A**\n",
    "1. Build and test a text classifier based on the age of a user according their age classes (0-10, 11-20, 21-30, 31+).\n",
    "\n",
    "2. Build a ML name classifier that classifies the age of a user according their age classes (0-10, 11-20, 21-30, 31+).\n",
    "\n",
    "3. Build a meta classifier that combines the previously built classifiers based on their age classes (0-10, 11-20, 21-30, 31+).\n",
    "\n",
    "**Task group B**\n",
    "1. Build and test a text regressor based on the age of a user according their specific age (regression).\n",
    "\n",
    "2. Build a ML name classifier that classifies the age of a user according their specific age (regression).\n",
    "\n",
    "3. Build a meta classifier that combines the previously built classifiers based on their specific age (regression)."
   ]
  },
  {
   "cell_type": "markdown",
   "metadata": {},
   "source": [
    "<i>**Please make sure:**\n",
    "\n",
    "- each cell (essential step) is commented on with a short sentence\n",
    "- new variables / fields are output in sufficient length (e.g., df.head (10))\n",
    "- each of the tasks is answered with a short written statement\n",
    "\n",
    "This makes the evaluation much easier and, thus, would help us a lot.</i>\n"
   ]
  },
  {
   "cell_type": "code",
   "execution_count": null,
   "metadata": {},
   "outputs": [],
   "source": [
    "# Code up your solution here..."
   ]
  }
 ],
 "metadata": {
  "kernelspec": {
   "display_name": "Python 3",
   "language": "python",
   "name": "python3"
  },
  "language_info": {
   "codemirror_mode": {
    "name": "ipython",
    "version": 3
   },
   "file_extension": ".py",
   "mimetype": "text/x-python",
   "name": "python",
   "nbconvert_exporter": "python",
   "pygments_lexer": "ipython3",
   "version": "3.7.0"
  }
 },
 "nbformat": 4,
 "nbformat_minor": 2
}
